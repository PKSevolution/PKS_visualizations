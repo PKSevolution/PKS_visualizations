{
 "cells": [
  {
   "cell_type": "markdown",
   "metadata": {},
   "source": [
    "# Prepare figure 2 data\n",
    "\n",
    "To get the piecharts to function correctly we'll have to precompute the values (as the sum can be different)"
   ]
  },
  {
   "cell_type": "code",
   "execution_count": 4,
   "metadata": {},
   "outputs": [],
   "source": [
    "import json\n",
    "from collections import defaultdict\n",
    "\n",
    "colors = defaultdict(lambda: '#d7d7d7')\n",
    "colors[\"1\"] = '#feff6f'\n",
    "colors[\"2\"] = '#f5dc0a'\n",
    "colors[\"3\"] = '#f88309'\n",
    "colors[\"4\"] = '#067f00'\n",
    "colors[\"5\"] = '#067f00'\n",
    "colors[\"5\"] = '#067f00'\n",
    "colors[\"7\"] = '#0fd49d'\n",
    "colors[\"10\"] = '#37ebd8'\n",
    "colors[\"11\"] = '#22618f'\n",
    "colors[\"14\"] = '#0159ff'\n",
    "colors[\"15\"] = '#0ca6f7'\n",
    "colors[\"16\"] = '#a1d7ed'\n",
    "colors[\"19\"] = '#ddafed'\n",
    "colors[\"20\"] = '#b787ff'\n",
    "colors[\"22\"] = '#9624ff'\n",
    "colors[\"23\"] = '#ff2baa'\n",
    "colors[\"24\"] = '#f43232'\n",
    "colors[\"25\"] = '#b48b0f'\n",
    "colors[\"27\"] = '#89660a'\n",
    "colors[\"-\"] = '#646464'\n",
    "\n",
    "with open('./data/fig2.json') as fp:\n",
    "    data = json.load(fp) \n",
    "    \n",
    "for node in data['G']['elements']['nodes']:\n",
    "    try:\n",
    "        total_members = sum([node['data']['Other'], node['data']['nd'], node['data']['R2X'], node['data']['R4C'], node['data']['R4A']])\n",
    "        node['data']['Other_percentage'] = node['data']['Other']*100/total_members\n",
    "        node['data']['nd_percentage'] = node['data']['nd']*100/total_members\n",
    "        node['data']['R2X_percentage'] = node['data']['R2X']*100/total_members\n",
    "        node['data']['R4C_percentage'] = node['data']['R4C']*100/total_members\n",
    "        node['data']['R4A_percentage'] = node['data']['R4A']*100/total_members\n",
    "    except Exception as e:\n",
    "        print(e)\n",
    "\n",
    "    node['data']['cluster_color'] = colors[node['data']['cluster']]\n",
    "    \n",
    "        \n",
    "    \n",
    "with open('./docs/data/fig2.json', 'w') as fp:\n",
    "    json.dump(data, fp, indent=4, sort_keys=True)"
   ]
  }
 ],
 "metadata": {
  "kernelspec": {
   "display_name": "Python 3",
   "language": "python",
   "name": "python3"
  },
  "language_info": {
   "codemirror_mode": {
    "name": "ipython",
    "version": 3
   },
   "file_extension": ".py",
   "mimetype": "text/x-python",
   "name": "python",
   "nbconvert_exporter": "python",
   "pygments_lexer": "ipython3",
   "version": "3.7.6"
  }
 },
 "nbformat": 4,
 "nbformat_minor": 4
}
